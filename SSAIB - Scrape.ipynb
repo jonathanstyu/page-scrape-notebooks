{
 "cells": [
  {
   "cell_type": "code",
   "execution_count": 1,
   "metadata": {
    "collapsed": true
   },
   "outputs": [],
   "source": [
    "from selenium import webdriver\n",
    "from selenium.webdriver.common.keys import Keys\n",
    "\n",
    "from selenium.webdriver.common.by import By\n",
    "from selenium.webdriver.support.ui import WebDriverWait\n",
    "from selenium.webdriver.support import expected_conditions as EC\n",
    "import pandas as pd\n",
    "from bs4 import BeautifulSoup\n",
    "import random \n",
    "import urllib.request\n",
    "import time"
   ]
  },
  {
   "cell_type": "markdown",
   "metadata": {},
   "source": [
    "This website is a little bizarre. There is a form that creates a URL that then contains the names of the companies that I am looking for. \n",
    "\n",
    "Here I am quickly generating the URLS based on a scrape of the site's dropdown which is then fed into the URL request. Then I scrape the page the usual way. "
   ]
  },
  {
   "cell_type": "code",
   "execution_count": 7,
   "metadata": {
    "collapsed": false
   },
   "outputs": [],
   "source": [
    "url = 'https://ssaib.org/security-provider-search/?activity='\n",
    "ending = \"&type=town&postcode=&distance-temp=1&distance=1000&town=London&company=&compSearchSend=Search\""
   ]
  },
  {
   "cell_type": "code",
   "execution_count": 3,
   "metadata": {
    "collapsed": false
   },
   "outputs": [],
   "source": [
    "entries = [\n",
    "    \"Access Control Systems\",\n",
    "    \"Alarm Receiving Centres\",\n",
    "    \"CCTV Management and Operation\",\n",
    "    \"CCTV Systems\",\n",
    "    \"Close Protection Services\",\n",
    "    \"Detector Activated CCTV\",\n",
    "    \"Door Supervison\",\n",
    "    \"Emergency Lighting\",\n",
    "    \"Environmental Management Systems\",\n",
    "    \"Fire Systems\",\n",
    "    \"Gaurding Services\",\n",
    "    \"Guarding Services (Republic of Ireland)\",\n",
    "    \"Intruder Alarm Maintenance only\",\n",
    "    \"Intruder Alarm Systems\",\n",
    "    \"Investigative Services\",\n",
    "    \"Key Holding and Response Services\",\n",
    "    \"Occupational Health &amp; Safety Management Systems\",\n",
    "    \"Remote Video Response Centres\",\n",
    "    \"Scafolding Alarm System\",\n",
    "    \"Secures Operating Centres      \",\n",
    "    \"Static Guarding and Mobile Patrols\",\n",
    "    \"Telecare Services\",\n",
    "    \"Vacant Property Alarm System\"\n",
    "]"
   ]
  },
  {
   "cell_type": "code",
   "execution_count": 11,
   "metadata": {
    "collapsed": false
   },
   "outputs": [
    {
     "data": {
      "text/plain": [
       "['https://ssaib.org/security-provider-search/?activity=Access+Control+Systems&type=town&postcode=&distance-temp=1&distance=1000&town=London&company=&compSearchSend=Search',\n",
       " 'https://ssaib.org/security-provider-search/?activity=Alarm+Receiving+Centres&type=town&postcode=&distance-temp=1&distance=1000&town=London&company=&compSearchSend=Search',\n",
       " 'https://ssaib.org/security-provider-search/?activity=CCTV+Management+and+Operation&type=town&postcode=&distance-temp=1&distance=1000&town=London&company=&compSearchSend=Search',\n",
       " 'https://ssaib.org/security-provider-search/?activity=CCTV+Systems&type=town&postcode=&distance-temp=1&distance=1000&town=London&company=&compSearchSend=Search',\n",
       " 'https://ssaib.org/security-provider-search/?activity=Close+Protection+Services&type=town&postcode=&distance-temp=1&distance=1000&town=London&company=&compSearchSend=Search',\n",
       " 'https://ssaib.org/security-provider-search/?activity=Detector+Activated+CCTV&type=town&postcode=&distance-temp=1&distance=1000&town=London&company=&compSearchSend=Search',\n",
       " 'https://ssaib.org/security-provider-search/?activity=Door+Supervison&type=town&postcode=&distance-temp=1&distance=1000&town=London&company=&compSearchSend=Search',\n",
       " 'https://ssaib.org/security-provider-search/?activity=Emergency+Lighting&type=town&postcode=&distance-temp=1&distance=1000&town=London&company=&compSearchSend=Search',\n",
       " 'https://ssaib.org/security-provider-search/?activity=Environmental+Management+Systems&type=town&postcode=&distance-temp=1&distance=1000&town=London&company=&compSearchSend=Search',\n",
       " 'https://ssaib.org/security-provider-search/?activity=Fire+Systems&type=town&postcode=&distance-temp=1&distance=1000&town=London&company=&compSearchSend=Search',\n",
       " 'https://ssaib.org/security-provider-search/?activity=Gaurding+Services&type=town&postcode=&distance-temp=1&distance=1000&town=London&company=&compSearchSend=Search',\n",
       " 'https://ssaib.org/security-provider-search/?activity=Guarding+Services+(Republic+of+Ireland)&type=town&postcode=&distance-temp=1&distance=1000&town=London&company=&compSearchSend=Search',\n",
       " 'https://ssaib.org/security-provider-search/?activity=Intruder+Alarm+Maintenance+only&type=town&postcode=&distance-temp=1&distance=1000&town=London&company=&compSearchSend=Search',\n",
       " 'https://ssaib.org/security-provider-search/?activity=Intruder+Alarm+Systems&type=town&postcode=&distance-temp=1&distance=1000&town=London&company=&compSearchSend=Search',\n",
       " 'https://ssaib.org/security-provider-search/?activity=Investigative+Services&type=town&postcode=&distance-temp=1&distance=1000&town=London&company=&compSearchSend=Search',\n",
       " 'https://ssaib.org/security-provider-search/?activity=Key+Holding+and+Response+Services&type=town&postcode=&distance-temp=1&distance=1000&town=London&company=&compSearchSend=Search',\n",
       " 'https://ssaib.org/security-provider-search/?activity=Occupational+Health+&amp;+Safety+Management+Systems&type=town&postcode=&distance-temp=1&distance=1000&town=London&company=&compSearchSend=Search',\n",
       " 'https://ssaib.org/security-provider-search/?activity=Remote+Video+Response+Centres&type=town&postcode=&distance-temp=1&distance=1000&town=London&company=&compSearchSend=Search',\n",
       " 'https://ssaib.org/security-provider-search/?activity=Scafolding+Alarm+System&type=town&postcode=&distance-temp=1&distance=1000&town=London&company=&compSearchSend=Search',\n",
       " 'https://ssaib.org/security-provider-search/?activity=Secures+Operating+Centres&type=town&postcode=&distance-temp=1&distance=1000&town=London&company=&compSearchSend=Search',\n",
       " 'https://ssaib.org/security-provider-search/?activity=Static+Guarding+and+Mobile+Patrols&type=town&postcode=&distance-temp=1&distance=1000&town=London&company=&compSearchSend=Search',\n",
       " 'https://ssaib.org/security-provider-search/?activity=Telecare+Services&type=town&postcode=&distance-temp=1&distance=1000&town=London&company=&compSearchSend=Search',\n",
       " 'https://ssaib.org/security-provider-search/?activity=Vacant+Property+Alarm+System&type=town&postcode=&distance-temp=1&distance=1000&town=London&company=&compSearchSend=Search']"
      ]
     },
     "execution_count": 11,
     "metadata": {},
     "output_type": "execute_result"
    }
   ],
   "source": [
    "urls = [\n",
    "    (url + x.strip().replace(' ', '+') + ending)\n",
    "    for x in entries \n",
    "]\n",
    "\n",
    "urls"
   ]
  },
  {
   "cell_type": "code",
   "execution_count": 20,
   "metadata": {
    "collapsed": false
   },
   "outputs": [],
   "source": [
    "soups= []\n",
    "\n",
    "for url in urls: \n",
    "    headers = { 'User-Agent' : 'Mozilla/5.0 (Windows; U; Windows NT 5.1; en-US; rv:1.9.0.7) Gecko/2009021910 Firefox/3.0.7' }\n",
    "    request=urllib.request.Request(\n",
    "        url\n",
    "        ,None,headers) #The assembled request\n",
    "    response = urllib.request.urlopen(request)\n",
    "    soups.append(BeautifulSoup(response, 'html.parser'))"
   ]
  },
  {
   "cell_type": "code",
   "execution_count": 24,
   "metadata": {
    "collapsed": false
   },
   "outputs": [],
   "source": [
    "companies = []\n",
    "\n",
    "for soup in soups: \n",
    "    for chunk in soup.find_all('div', class_='post pure-u-1-3 nobottom notop noborder'): \n",
    "        line = [ x for x in chunk.get_text().split('\\n') if len(x) > 0]\n",
    "        companies.append({\n",
    "                'name': line[0],\n",
    "                'tel': line[1]\n",
    "            })"
   ]
  },
  {
   "cell_type": "code",
   "execution_count": 26,
   "metadata": {
    "collapsed": false
   },
   "outputs": [],
   "source": [
    "pd.DataFrame(companies).to_csv('../ssaib.csv')"
   ]
  },
  {
   "cell_type": "code",
   "execution_count": 25,
   "metadata": {
    "collapsed": false
   },
   "outputs": [],
   "source": []
  },
  {
   "cell_type": "code",
   "execution_count": 28,
   "metadata": {
    "collapsed": false
   },
   "outputs": [],
   "source": []
  },
  {
   "cell_type": "code",
   "execution_count": null,
   "metadata": {
    "collapsed": true
   },
   "outputs": [],
   "source": []
  }
 ],
 "metadata": {
  "anaconda-cloud": {},
  "kernelspec": {
   "display_name": "Python 3",
   "language": "python",
   "name": "python3"
  },
  "language_info": {
   "codemirror_mode": {
    "name": "ipython",
    "version": 3
   },
   "file_extension": ".py",
   "mimetype": "text/x-python",
   "name": "python",
   "nbconvert_exporter": "python",
   "pygments_lexer": "ipython3",
   "version": "3.5.2"
  }
 },
 "nbformat": 4,
 "nbformat_minor": 1
}
