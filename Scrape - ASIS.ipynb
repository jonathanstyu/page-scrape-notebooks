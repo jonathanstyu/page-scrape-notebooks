{
 "cells": [
  {
   "cell_type": "code",
   "execution_count": 1,
   "metadata": {
    "collapsed": true
   },
   "outputs": [],
   "source": [
    "from selenium import webdriver\n",
    "from selenium.webdriver.common.keys import Keys\n",
    "\n",
    "from selenium.webdriver.common.by import By\n",
    "from selenium.webdriver.support.ui import WebDriverWait\n",
    "from selenium.webdriver.support import expected_conditions as EC\n",
    "from selenium.webdriver.support.ui import Select\n",
    "from bs4 import BeautifulSoup\n",
    "\n",
    "import pandas as pd\n",
    "import random \n",
    "import time\n",
    "import numpy as np"
   ]
  },
  {
   "cell_type": "markdown",
   "metadata": {},
   "source": [
    "API: http://selenium-python.readthedocs.io/api.html\n",
    "\n",
    "Download chrome webdriver: https://sites.google.com/a/chromium.org/chromedriver/downloads\n",
    "\n",
    "Chrome webdriver needs to sit in the same folder as this file. \n",
    "\n",
    "Other references: http://stackoverflow.com/questions/8900073/webdriver-screenshot"
   ]
  },
  {
   "cell_type": "code",
   "execution_count": 2,
   "metadata": {
    "collapsed": true
   },
   "outputs": [],
   "source": [
    "chrome_options = webdriver.ChromeOptions()\n",
    "chrome_options.add_argument(\"--incognito\")\n",
    "url = \"https://www.asisonline.org/Membership/Member-Center/Pages/Member-Directory.aspx\""
   ]
  },
  {
   "cell_type": "markdown",
   "metadata": {},
   "source": [
    "I am just going to let the human get to the main search reuslts page. \n",
    "\n",
    "login: \n",
    "jonathan.yu@umbocv.com\t\n",
    "\n",
    "password: \n",
    "33An]MDR9-~a_+6s"
   ]
  },
  {
   "cell_type": "code",
   "execution_count": 3,
   "metadata": {
    "collapsed": true
   },
   "outputs": [],
   "source": [
    "driver = webdriver.Chrome('./chromedriver', chrome_options=chrome_options)\n",
    "driver.get(url)\n",
    "\n",
    "# driver.close()"
   ]
  },
  {
   "cell_type": "code",
   "execution_count": 26,
   "metadata": {
    "collapsed": true
   },
   "outputs": [],
   "source": [
    "htmls = []"
   ]
  },
  {
   "cell_type": "code",
   "execution_count": 38,
   "metadata": {},
   "outputs": [
    {
     "name": "stdout",
     "output_type": "stream",
     "text": [
      "listings found: 10\n",
      "listings found: 10\n",
      "listings found: 10\n",
      "listings found: 10\n",
      "listings found: 10\n",
      "listings found: 10\n",
      "listings found: 10\n",
      "listings found: 10\n",
      "listings found: 10\n",
      "listings found: 3\n",
      "error\n"
     ]
    }
   ],
   "source": [
    "try: \n",
    "    driver.implicitly_wait(10)\n",
    "    for x in range(0, 12): \n",
    "        listings = driver.find_elements_by_css_selector('div.psrch-Main')\n",
    "\n",
    "        print(\"listings found: {0}\".format(len(listings)))\n",
    "\n",
    "        for listing in listings: \n",
    "            html = listing.get_attribute('innerHTML')\n",
    "            htmls.append(html)\n",
    "        next_button = driver.find_element_by_xpath('//*[@id=\"PageLinkNext\"]')\n",
    "        next_button.click()\n",
    "except: \n",
    "    print(\"error\")"
   ]
  },
  {
   "cell_type": "code",
   "execution_count": 14,
   "metadata": {},
   "outputs": [
    {
     "data": {
      "text/plain": [
       "0"
      ]
     },
     "execution_count": 14,
     "metadata": {},
     "output_type": "execute_result"
    }
   ],
   "source": [
    "len(htmls)"
   ]
  },
  {
   "cell_type": "code",
   "execution_count": 10,
   "metadata": {},
   "outputs": [
    {
     "ename": "ValueError",
     "evalue": "setting an array element with a sequence",
     "output_type": "error",
     "traceback": [
      "\u001b[0;31m---------------------------------------------------------------------------\u001b[0m",
      "\u001b[0;31mValueError\u001b[0m                                Traceback (most recent call last)",
      "\u001b[0;32m<ipython-input-10-8be1a59ba60c>\u001b[0m in \u001b[0;36m<module>\u001b[0;34m()\u001b[0m\n\u001b[0;32m----> 1\u001b[0;31m \u001b[0mnp\u001b[0m\u001b[0;34m.\u001b[0m\u001b[0msavetxt\u001b[0m\u001b[0;34m(\u001b[0m\u001b[0;34m'../czech.txt'\u001b[0m\u001b[0;34m,\u001b[0m \u001b[0mnp\u001b[0m\u001b[0;34m.\u001b[0m\u001b[0marray\u001b[0m\u001b[0;34m(\u001b[0m\u001b[0mmembers\u001b[0m\u001b[0;34m)\u001b[0m\u001b[0;34m,\u001b[0m  \u001b[0mdelimiter\u001b[0m\u001b[0;34m=\u001b[0m\u001b[0;34m','\u001b[0m\u001b[0;34m,\u001b[0m \u001b[0mfmt\u001b[0m\u001b[0;34m=\u001b[0m\u001b[0;34m\"%s\"\u001b[0m\u001b[0;34m)\u001b[0m\u001b[0;34m\u001b[0m\u001b[0m\n\u001b[0m",
      "\u001b[0;31mValueError\u001b[0m: setting an array element with a sequence"
     ]
    }
   ],
   "source": [
    "np.savetxt('../czech.txt', np.array(members),  delimiter=',', fmt=\"%s\")"
   ]
  },
  {
   "cell_type": "markdown",
   "metadata": {},
   "source": [
    "# The parsing of the text"
   ]
  },
  {
   "cell_type": "code",
   "execution_count": 94,
   "metadata": {
    "collapsed": true
   },
   "outputs": [],
   "source": []
  },
  {
   "cell_type": "code",
   "execution_count": 39,
   "metadata": {
    "collapsed": true
   },
   "outputs": [],
   "source": [
    "soups = [BeautifulSoup(html, 'html.parser') for html in htmls]\n",
    "\n",
    "members = []\n",
    "for soup in soups: \n",
    "    members += soup.find_all('div', class_='psrch-results')"
   ]
  },
  {
   "cell_type": "code",
   "execution_count": null,
   "metadata": {
    "collapsed": true
   },
   "outputs": [],
   "source": []
  },
  {
   "cell_type": "code",
   "execution_count": 40,
   "metadata": {
    "collapsed": true
   },
   "outputs": [],
   "source": [
    "parsed_members = []\n",
    "\n",
    "for member in members: \n",
    "    member_a = {}\n",
    "    member_a['name'] = member.find('li', id='NameField').get_text()\n",
    "    member_a['job_title'] = member.find('li', id='JobTitleField').get_text()\n",
    "    member_a['company'] = member.find_all('li', id='JobTitleField')[1].get_text()\n",
    "    member_a['city'] = member.find('li', id='LocationField').get_text().strip()\n",
    "    if len(member.find_all('li', id='LocationField')) > 2:\n",
    "        member_a['phone'] = member.find_all('li', id='LocationField')[2].get_text().strip()\n",
    "    member_a['country'] = member.find('li', id='LocationField2').get_text().strip()\n",
    "    member_a['email'] = member.find_all('a')[1].get_text()\n",
    "    parsed_members.append(member_a)"
   ]
  },
  {
   "cell_type": "code",
   "execution_count": 41,
   "metadata": {
    "collapsed": true
   },
   "outputs": [],
   "source": [
    "pd.DataFrame(parsed_members).drop_duplicates().to_csv('../parsed_nordic.csv', index=None)"
   ]
  },
  {
   "cell_type": "code",
   "execution_count": null,
   "metadata": {},
   "outputs": [],
   "source": []
  },
  {
   "cell_type": "code",
   "execution_count": null,
   "metadata": {
    "collapsed": true
   },
   "outputs": [],
   "source": []
  }
 ],
 "metadata": {
  "anaconda-cloud": {},
  "kernelspec": {
   "display_name": "Python 3",
   "language": "python",
   "name": "python3"
  },
  "language_info": {
   "codemirror_mode": {
    "name": "ipython",
    "version": 3
   },
   "file_extension": ".py",
   "mimetype": "text/x-python",
   "name": "python",
   "nbconvert_exporter": "python",
   "pygments_lexer": "ipython3",
   "version": "3.5.2"
  }
 },
 "nbformat": 4,
 "nbformat_minor": 1
}
