{
 "cells": [
  {
   "cell_type": "code",
   "execution_count": 2,
   "metadata": {},
   "outputs": [],
   "source": [
    "import pandas as pd\n",
    "import urllib.request\n",
    "from bs4 import BeautifulSoup\n",
    "from bs4 import Comment"
   ]
  },
  {
   "cell_type": "code",
   "execution_count": 6,
   "metadata": {
    "collapsed": true
   },
   "outputs": [],
   "source": [
    "search_results = []"
   ]
  },
  {
   "cell_type": "code",
   "execution_count": 9,
   "metadata": {
    "scrolled": true
   },
   "outputs": [],
   "source": [
    "for x in range(2, 45):\n",
    "    try: \n",
    "        url = 'https://www.asial.com.au/members-directory/search/?command=getresults&pageNo={0}&LocationRadius=20&Filter::ServicesOffered::SelectMany=Alarm+Monitoring+Services'.format(x)\n",
    "#         print(url)\n",
    "        r = urllib.request.urlopen(url)\n",
    "        soup = BeautifulSoup(r, 'html.parser')\n",
    "        search_results += soup.find_all('div', class_=\"searchResults\")\n",
    "    except: \n",
    "        print(\"Damn, an error\")\n",
    "        pass\n",
    "\n",
    "# Luckily for us, the designer wrapped the result in a conveniently named Class \"searchResults\" "
   ]
  },
  {
   "cell_type": "markdown",
   "metadata": {},
   "source": [
    "http://stackoverflow.com/questions/3507283/how-can-i-strip-comment-tags-from-html-using-beautifulsoup\n",
    "\n",
    "This explains how to parse out comment tags"
   ]
  },
  {
   "cell_type": "code",
   "execution_count": 10,
   "metadata": {},
   "outputs": [
    {
     "data": {
      "text/plain": [
       "846"
      ]
     },
     "execution_count": 10,
     "metadata": {},
     "output_type": "execute_result"
    }
   ],
   "source": [
    "len(search_results)"
   ]
  },
  {
   "cell_type": "code",
   "execution_count": 11,
   "metadata": {},
   "outputs": [],
   "source": [
    "companies = []\n",
    "\n",
    "for result in search_results: \n",
    "# result = search_results[350]\n",
    "    company = {}\n",
    "    try: \n",
    "        company[\"title\"] = result.find_all('h3')[0].get_text()\n",
    "        company['profile'] = result.find('a')['href']\n",
    "\n",
    "    #     This is an ugly dirty nasty hack to get \n",
    "        details = result.find('p').get_text()\n",
    "        for entry in [x for x in details.split('\\n') if x]: \n",
    "            if \"Phone\" in entry: \n",
    "                company['phone'] = entry.split(':')[1].strip()\n",
    "            if 'Website' in entry: \n",
    "                company[\"website\"] = entry.split(':')[1].strip()\n",
    "\n",
    "        # This is an interesting one because it is hidden as a comment. I feed it back into BeautifulSoup\n",
    "        text = result.find(text=lambda text:isinstance(text, Comment))\n",
    "        company['email'] = BeautifulSoup(text, 'html.parser').find('a').get_text()\n",
    "#         print(company)\n",
    "        companies.append(company)\n",
    "    except: \n",
    "        pass"
   ]
  },
  {
   "cell_type": "code",
   "execution_count": 12,
   "metadata": {},
   "outputs": [
    {
     "data": {
      "text/plain": [
       "825"
      ]
     },
     "execution_count": 12,
     "metadata": {},
     "output_type": "execute_result"
    }
   ],
   "source": [
    "len(companies)"
   ]
  },
  {
   "cell_type": "code",
   "execution_count": 13,
   "metadata": {},
   "outputs": [],
   "source": [
    "db = pd.DataFrame(companies)\n",
    "db2 = db.drop_duplicates('email')\n",
    "db2.to_csv('../aus.csv', index=False)"
   ]
  },
  {
   "cell_type": "code",
   "execution_count": null,
   "metadata": {
    "collapsed": true
   },
   "outputs": [],
   "source": []
  }
 ],
 "metadata": {
  "kernelspec": {
   "display_name": "Python 3",
   "language": "python",
   "name": "python3"
  },
  "language_info": {
   "codemirror_mode": {
    "name": "ipython",
    "version": 3
   },
   "file_extension": ".py",
   "mimetype": "text/x-python",
   "name": "python",
   "nbconvert_exporter": "python",
   "pygments_lexer": "ipython3",
   "version": "3.5.2"
  }
 },
 "nbformat": 4,
 "nbformat_minor": 2
}
