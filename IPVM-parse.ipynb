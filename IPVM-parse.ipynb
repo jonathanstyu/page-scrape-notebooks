{
 "cells": [
  {
   "cell_type": "code",
   "execution_count": 11,
   "metadata": {
    "collapsed": true
   },
   "outputs": [],
   "source": [
    "import pandas as pd \n",
    "import urllib.request \n",
    "from bs4 import BeautifulSoup"
   ]
  },
  {
   "cell_type": "markdown",
   "metadata": {
    "collapsed": true
   },
   "source": [
    "We have already scraped the tables through the use of Selenium and Webdriver:\n",
    "\n",
    "document.querySelectorAll('[data-id]')[0].children[1]\n",
    "\n",
    "We have 111 documents that we need to scrape through and we are going to use BeautifulSoup to do that"
   ]
  },
  {
   "cell_type": "code",
   "execution_count": 17,
   "metadata": {
    "collapsed": false
   },
   "outputs": [
    {
     "name": "stdout",
     "output_type": "stream",
     "text": [
      "<tbody><tr class=\"odd\" role=\"row\"><td class=\"sorting_1\" tabindex=\"0\"><a href=\"http://1stacesecurity.co.uk\" target=\"_blank\">1st ACE Security</a></td><td><div class=\"link-wrap\"><a data-latitude=\"51.3983\" data-longitude=\"0.0309737\" data-trigger-location-change=\"true\" href=\"#\">Bromley, England</a>; <a data-latitude=\"51.1615\" data-longitude=\"0.256178\" data-trigger-location-change=\"true\" href=\"#\">Southborough, United Kingdom</a></div></td><td></td></tr><tr class=\"even\" role=\"row\"><td class=\"sorting_1\" tabindex=\"0\"><a href=\"http://1stchoiceoftexas.com\" target=\"_blank\">1st Choice Security &amp; Investigations</a></td><td><div class=\"link-wrap\"><a data-latitude=\"30.4472\" data-longitude=\"-97.6474\" data-trigger-location-change=\"true\" href=\"#\">Pflugerville, Texas</a></div></td><td>Yes</td></tr><tr class=\"odd\" role=\"row\"><td class=\"sorting_1\" tabindex=\"0\"><a href=\"http://1stglobalintegrated.com/\" target=\"_blank\">1st Global Integrated Electronic Security Systems</a></td><td><div class=\"link-wrap\"><a data-latitude=\"14.5794\" data-longitude=\"121.036\" data-trigger-location-change=\"true\" href=\"#\">Mandaluyong, Kalakhang Maynila</a></div></td><td></td></tr><tr class=\"even\" role=\"row\"><td class=\"sorting_1\" tabindex=\"0\"><a href=\"http://2020dss.com\" target=\"_blank\">2020DSS</a></td><td><div class=\"link-wrap\"><a data-latitude=\"53.5444\" data-longitude=\"-113.491\" data-trigger-location-change=\"true\" href=\"#\">Edmonton, Alberta</a>; <a data-latitude=\"49.2827\" data-longitude=\"-123.121\" data-trigger-location-change=\"true\" href=\"#\">Vancouver, British Columbia</a>; <a data-latitude=\"51.0486\" data-longitude=\"-114.071\" data-trigger-location-change=\"true\" href=\"#\">Calgary, Alberta</a>; <a data-latitude=\"43.6532\" data-longitude=\"-79.3832\" data-trigger-location-change=\"true\" href=\"#\">Toronto, Ontario</a>; <a data-latitude=\"49.8998\" data-longitude=\"-97.1375\" data-trigger-location-change=\"true\" href=\"#\">Winnipeg, Manitoba</a>; <a data-latitude=\"49.888\" data-longitude=\"-119.496\" data-trigger-location-change=\"true\" href=\"#\">Kelowna, British Columbia</a></div></td><td>Yes</td></tr><tr class=\"odd\" role=\"row\"><td class=\"sorting_1\" tabindex=\"0\"><a href=\"http://2020cctv.com\" target=\"_blank\">2020 Vision Systems</a></td><td><div class=\"link-wrap\"><a data-latitude=\"55.0106\" data-longitude=\"-1.44486\" data-trigger-location-change=\"true\" href=\"#\">North Shields, United Kingdom</a></div></td><td>Yes</td></tr><tr class=\"even\" role=\"row\"><td class=\"sorting_1\" tabindex=\"0\"><a href=\"http://2sectec.com\" target=\"_blank\">2sectec Security &amp; Automation</a></td><td><div class=\"link-wrap\"><a data-latitude=\"38.826017\" data-longitude=\"-81.756287\" data-trigger-location-change=\"true\" href=\"#\">Ripley, West Virginia</a></div></td><td>Yes</td></tr><tr class=\"odd\" role=\"row\"><td class=\"sorting_1\" tabindex=\"0\"><a href=\"http://2techbda.com\" target=\"_blank\">2Tech</a></td><td><div class=\"link-wrap\"><a data-latitude=\"32.2943\" data-longitude=\"-64.7812\" data-trigger-location-change=\"true\" href=\"#\">Hamilton, Bermuda</a></div></td><td>Yes</td></tr><tr class=\"even\" role=\"row\"><td class=\"sorting_1\" tabindex=\"0\"><a href=\"http://360systemsga.com\" target=\"_blank\">360 Systems</a></td><td><div class=\"link-wrap\"><a data-latitude=\"33.9814\" data-longitude=\"-84.0493\" data-trigger-location-change=\"true\" href=\"#\">Lawrenceville, Georgia</a></div></td><td></td></tr><tr class=\"odd\" role=\"row\"><td class=\"sorting_1\" tabindex=\"0\"><a href=\"http://3ddatacom.com\" target=\"_blank\">3D Datacom</a></td><td><div class=\"link-wrap\"><a data-latitude=\"38.5994\" data-longitude=\"-121.26\" data-trigger-location-change=\"true\" href=\"#\">Rancho Cordova, California</a></div></td><td></td></tr><tr class=\"even\" role=\"row\"><td class=\"sorting_1\" tabindex=\"0\"><a href=\"http://3i-mind.com\" target=\"_blank\">3i-MIND Technologies</a></td><td><div class=\"link-wrap\"><a data-latitude=\"47.3753\" data-longitude=\"8.53803\" data-trigger-location-change=\"true\" href=\"#\">Zürich, Zürich</a></div></td><td>Yes</td></tr><tr class=\"odd\" role=\"row\"><td class=\"sorting_1\" tabindex=\"0\"><a href=\"http://3rdeyesurveillance.net\" target=\"_blank\">3rd Eye Surveillance Systems</a></td><td><div class=\"link-wrap\"><a data-latitude=\"32.9618\" data-longitude=\"-96.725\" data-trigger-location-change=\"true\" href=\"#\">Richardson, Texas</a></div></td><td>Yes</td></tr><tr class=\"even\" role=\"row\"><td class=\"sorting_1\" tabindex=\"0\"><a href=\"http://3sixtyintegrated.com\" target=\"_blank\">3Sixty Integrated</a></td><td><div class=\"link-wrap\"><a data-latitude=\"29.5469\" data-longitude=\"-98.4753\" data-trigger-location-change=\"true\" href=\"#\">San Antonio, Texas</a></div></td><td>Yes</td></tr><tr class=\"odd\" role=\"row\"><td class=\"sorting_1\" tabindex=\"0\"><a href=\"http://3waycom.com\" target=\"_blank\">3waycom</a></td><td><div class=\"link-wrap\"><a data-latitude=\"41.9106\" data-longitude=\"-72.6617\" data-trigger-location-change=\"true\" href=\"#\">Windsor Locks, Connecticut</a></div></td><td>Yes</td></tr><tr class=\"even\" role=\"row\"><td class=\"sorting_1\" tabindex=\"0\"><a href=\"http://4-dsecurity.com\" target=\"_blank\">4D Security Solutions</a></td><td><div class=\"link-wrap\"><a data-latitude=\"40.5487\" data-longitude=\"-74.4201\" data-trigger-location-change=\"true\" href=\"#\">South Plainfield, New Jersey</a></div></td><td>Yes</td></tr><tr class=\"odd\" role=\"row\"><td class=\"sorting_1\" tabindex=\"0\"><a href=\"http://7pixl.com\" target=\"_blank\">7PiXL</a></td><td><div class=\"link-wrap\"><a data-latitude=\"32.7667955\" data-longitude=\"-96.5991593\" data-trigger-location-change=\"true\" href=\"#\">Mesquite, Texas</a></div></td><td>Yes</td></tr><tr class=\"even\" role=\"row\"><td class=\"sorting_1\" tabindex=\"0\"><a href=\"http://911security.com\" target=\"_blank\">911 Security</a></td><td><div class=\"link-wrap\"><a data-latitude=\"32.8975\" data-longitude=\"-96.7004\" data-trigger-location-change=\"true\" href=\"#\">Dallas, Texas</a>; <a data-latitude=\"41.8882\" data-longitude=\"-87.6307\" data-trigger-location-change=\"true\" href=\"#\">Chicago, Illinois</a></div></td><td>Yes</td></tr><tr class=\"odd\" role=\"row\"><td class=\"sorting_1\" tabindex=\"0\"><a href=\"http://a-1access.com\" target=\"_blank\">A-1 Access Control Systems</a></td><td><div class=\"link-wrap\"><a data-latitude=\"27.9307\" data-longitude=\"-82.3995\" data-trigger-location-change=\"true\" href=\"#\">Tampa, Florida</a></div></td><td>Yes</td></tr><tr class=\"even\" role=\"row\"><td class=\"sorting_1\" tabindex=\"0\"><a href=\"http://a-1lock.com\" target=\"_blank\">A-1 Corporate Hardware</a></td><td><div class=\"link-wrap\"><a data-latitude=\"39.802\" data-longitude=\"-89.6511\" data-trigger-location-change=\"true\" href=\"#\">Springfield, Illinois</a>; <a data-latitude=\"38.612\" data-longitude=\"-90.3402\" data-trigger-location-change=\"true\" href=\"#\">Brentwood, Missouri</a></div></td><td>Yes</td></tr><tr class=\"odd\" role=\"row\"><td class=\"sorting_1\" tabindex=\"0\"><a href=\"http://a2systems.com\" target=\"_blank\">A2 Systems</a></td><td><div class=\"link-wrap\"><a data-latitude=\"42.5014\" data-longitude=\"-71.1619\" data-trigger-location-change=\"true\" href=\"#\">Woburn, Massachusetts</a></div></td><td>Yes</td></tr><tr class=\"even\" role=\"row\"><td class=\"sorting_1\" tabindex=\"0\"><a href=\"http://a2zsecurity.co.uk\" target=\"_blank\">A2Z Security</a></td><td><div class=\"link-wrap\"><a data-latitude=\"51.7241\" data-longitude=\"0.125941\" data-trigger-location-change=\"true\" href=\"#\">Thornwood, United Kingdom</a></div></td><td></td></tr></tbody>\n"
     ]
    }
   ],
   "source": [
    "# parse the code and this is one example .\n",
    "soup = BeautifulSoup(open('1.txt'), 'html.parser')\n",
    "print(soup)"
   ]
  },
  {
   "cell_type": "code",
   "execution_count": 13,
   "metadata": {
    "collapsed": false
   },
   "outputs": [],
   "source": [
    "import key as key\n",
    "import googlemaps\n",
    "\n",
    "# google maps api key\n",
    "gmaps = googlemaps.Client(key=key.key['key'])"
   ]
  },
  {
   "cell_type": "code",
   "execution_count": 66,
   "metadata": {
    "collapsed": false
   },
   "outputs": [],
   "source": [
    "def parse_soup(soup):\n",
    "    all_integrators = []\n",
    "    for integrator in soup.find_all('tr'):\n",
    "        hrefs = integrator.find_all('a')\n",
    "        href = hrefs[0]\n",
    "    #     grab the first. \n",
    "        longitude = hrefs[1]['data-longitude']\n",
    "        latitude = hrefs[1]['data-latitude']\n",
    "\n",
    "        lookup = gmaps.reverse_geocode((latitude, longitude))\n",
    "        for component in lookup[0]['address_components']:\n",
    "            if 'country' in component['types']:\n",
    "                country = component['long_name']\n",
    "        \n",
    "        item = {\n",
    "            'url': href['href'],\n",
    "            'name': href.get_text(),\n",
    "            'primary_loc': hrefs[1].get_text(),\n",
    "            'country': country or \"\"\n",
    "        }\n",
    "        all_integrators.append(item)\n",
    "    return all_integrators"
   ]
  },
  {
   "cell_type": "code",
   "execution_count": 51,
   "metadata": {
    "collapsed": false
   },
   "outputs": [
    {
     "name": "stdout",
     "output_type": "stream",
     "text": [
      "Philippines\n"
     ]
    }
   ],
   "source": [
    "# for parsing out the country in a google maps reverse geocode api call\n",
    "lookup = gmaps.reverse_geocode(('14.5794', '121.036'))\n",
    "for component in lookup[0]['address_components']:\n",
    "    if 'country' in component['types']:\n",
    "        print(component['long_name'])"
   ]
  },
  {
   "cell_type": "code",
   "execution_count": 70,
   "metadata": {
    "collapsed": false
   },
   "outputs": [],
   "source": [
    "# Collect all the soups together from html files\n",
    "\n",
    "soups = []\n",
    "\n",
    "for x in range(1, 112): \n",
    "    try: \n",
    "        soups += BeautifulSoup(open('{0}.txt'.format(x)), 'html.parser')\n",
    "    except:\n",
    "        soups += BeautifulSoup(open('{0}'.format(x)), 'html.parser')    "
   ]
  },
  {
   "cell_type": "code",
   "execution_count": 74,
   "metadata": {
    "collapsed": false,
    "scrolled": true
   },
   "outputs": [],
   "source": [
    "# now that we have all these soups, we can create our array for ingestion into pandas \n",
    "\n",
    "integrators_total = []\n",
    "\n",
    "for soup in soups:\n",
    "    try: \n",
    "        integrators_total += parse_soup(soup)\n",
    "    except: \n",
    "        pass"
   ]
  },
  {
   "cell_type": "code",
   "execution_count": 75,
   "metadata": {
    "collapsed": false
   },
   "outputs": [],
   "source": [
    "ints = pd.DataFrame(integrators_total)"
   ]
  },
  {
   "cell_type": "code",
   "execution_count": 77,
   "metadata": {
    "collapsed": false
   },
   "outputs": [],
   "source": [
    "# I like having pandas do the final export to csv ... \n",
    "ints.to_csv('integrators.csv')"
   ]
  },
  {
   "cell_type": "code",
   "execution_count": null,
   "metadata": {
    "collapsed": true
   },
   "outputs": [],
   "source": []
  }
 ],
 "metadata": {
  "anaconda-cloud": {},
  "kernelspec": {
   "display_name": "Python [default]",
   "language": "python",
   "name": "python3"
  },
  "language_info": {
   "codemirror_mode": {
    "name": "ipython",
    "version": 3
   },
   "file_extension": ".py",
   "mimetype": "text/x-python",
   "name": "python",
   "nbconvert_exporter": "python",
   "pygments_lexer": "ipython3",
   "version": "3.5.2"
  }
 },
 "nbformat": 4,
 "nbformat_minor": 1
}
